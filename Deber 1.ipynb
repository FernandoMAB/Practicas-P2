{
 "cells": [
  {
   "cell_type": "markdown",
   "metadata": {},
   "source": [
    "## Calculate the area using the Monte Carlo hit and miss method, of the intersection between a circle and a rectangle.\n",
    "The Circle center (Cx,Cy) is distributed as follows:\n",
    "Cx∼U(4,6),Cy∼U(4,6),Cx,Cy∈{4,5,6}\n",
    "Circle radius R is distributed as follows:\n",
    "R∼U(1,4),Cx,Cy∈{1,2,3,4}\n",
    "Rectangle dimensions (height and width) are distributed as follows:\n",
    "H∼U(1,4),W∼U(1,4),H,W∈{1,2,3,4}\n",
    "Rectangle origin is distributed as:\n",
    "Ox∼U(0,6),Oy∼U(0,6),Ox,Oy∈{0,1,2,3,4,5,6}\n",
    "Rectangle origin is distributed\n",
    "\n",
    "Example of the circles that can be generated."
   ]
  },
  {
   "cell_type": "code",
   "execution_count": 9,
   "metadata": {},
   "outputs": [],
   "source": [
    "import numpy as np\n",
    "import matplotlib.pyplot as plt"
   ]
  },
  {
   "cell_type": "code",
   "execution_count": 23,
   "metadata": {},
   "outputs": [],
   "source": [
    "## CIRCULO\n",
    "def circulo():\n",
    "    num_segmentos = 10000\n",
    "    r = [1,2,3,4]\n",
    "    cxy = [4,5,6]\n",
    "    cx = cxy[np.random.choice(len(cxy))]\n",
    "    cy = cxy[np.random.choice(len(cxy))]\n",
    "    rad = r[np.random.choice(len(r))]\n",
    "    #print(cx,',',cy,'radius',rad)\n",
    "\n",
    "    angulo = np.linspace(0, 2*np.pi, num_segmentos+1)\n",
    "    x = rad * np.cos(angulo) + cx\n",
    "    y = rad * np.sin(angulo) + cy\n",
    "    #plt.plot(x, y, color=\"blue\", markersize=1)\n",
    "    #plt.plot(x, y, 'bo')\n",
    "\n",
    "    #plt.title(\"Circulos\")\n",
    "    #plt.xlabel(\"X\")\n",
    "    #plt.ylabel(\"Y\")\n",
    "    #plt.gca().set_aspect('equal')\n",
    "    #plt.grid()\n",
    "    #plt.show()\n",
    "    return x,y"
   ]
  },
  {
   "cell_type": "code",
   "execution_count": 11,
   "metadata": {},
   "outputs": [],
   "source": [
    "# Rectangulo\n",
    "def rectangulo():\n",
    "    n=60\n",
    "    hw = [1,2,3,4] \n",
    "    o = [0,1,2,3,4,5,6]\n",
    "    he = hw[np.random.choice(len(hw))]\n",
    "    we = hw[np.random.choice(len(hw))]\n",
    "    originX = o[np.random.choice(len(o))]\n",
    "    originY = o[np.random.choice(len(o))]\n",
    "    #print('origin:',originX,originY)\n",
    "    #print('H and W:',he,we)\n",
    "\n",
    "    l1_upX = (np.linspace(originX-(we/2), originX+(we/2), n))\n",
    "    l1_upY = (np.linspace(originY+(he/2), originY+(he/2), n))\n",
    "\n",
    "    l2_downX = (np.linspace(originX+(we/2), originX-(we/2), n))\n",
    "    l2_downY = (np.linspace(originY-(he/2), originY-(he/2), n))\n",
    "\n",
    "    l3_leftX = (np.linspace(originX-(we/2), originX-(we/2), n))\n",
    "    l3_leftY = (np.linspace(originY-(he/2), originY+(he/2), n))\n",
    "\n",
    "    l4_rightX = (np.linspace(originX+(we/2), originX+(we/2), n))\n",
    "    l4_rightY = (np.linspace(originY-(he/2), originY+(he/2), n))\n",
    "\n",
    "    x = np.append(l1_upX,l4_rightX)\n",
    "    y = np.append(l1_upY,l4_rightY)\n",
    "\n",
    "    x = np.append(x,l2_downX)\n",
    "    y = np.append(y,l2_downY)\n",
    "\n",
    "    x = np.append(x,l3_leftX)\n",
    "    y = np.append(y,l3_leftY)\n",
    "    \n",
    "    #plt.figure(figsize=(6,6))\n",
    "    #plt.plot(x, y, color=\"blue\", markersize=1)\n",
    "    #plt.ylim((-10, 10))\n",
    "    #plt.xlim((-10, 10))\n",
    "    return x,y\n",
    "\n",
    "#plt.plot(x, y, color=\"blue\", markersize=1)\n"
   ]
  },
  {
   "cell_type": "code",
   "execution_count": 24,
   "metadata": {},
   "outputs": [
    {
     "data": {
      "text/plain": [
       "(-3.0, 11.0)"
      ]
     },
     "execution_count": 24,
     "metadata": {},
     "output_type": "execute_result"
    },
    {
     "data": {
      "image/png": "[encoded data removed]",
      "text/plain": [
       "<Figure size 432x432 with 1 Axes>"
      ]
     },
     "metadata": {
      "needs_background": "light"
     },
     "output_type": "display_data"
    }
   ],
   "source": [
    "rx, ry = rectangulo()\n",
    "cx, cy = circulo()\n",
    "\n",
    "plt.figure(figsize=(6,6))\n",
    "plt.plot(rx, ry, color=\"blue\")\n",
    "plt.plot(cx, cy, color=\"orange\")\n",
    "plt.plot(cx, cy, ':r')\n",
    "\n",
    "plt.ylim((-3, 11))\n",
    "plt.xlim((-3, 11))\n",
    "#print(rx,ry)\n",
    "#plt.xlabel(\"X\")\n",
    "#plt.ylabel(\"Y\")"
   ]
  }
 ],
 "metadata": {
  "kernelspec": {
   "display_name": "Python 3",
   "language": "python",
   "name": "python3"
  },
  "language_info": {
   "codemirror_mode": {
    "name": "ipython",
    "version": 3
   },
   "file_extension": ".py",
   "mimetype": "text/x-python",
   "name": "python",
   "nbconvert_exporter": "python",
   "pygments_lexer": "ipython3",
   "version": "3.8.5"
  },
  "metadata": {
   "interpreter": {
    "hash": "bf7ebc074ade986b0e90b4086c320da8ff5fcc0484ae520c994842dd57a44f59"
   }
  }
 },
 "nbformat": 4,
 "nbformat_minor": 4
}
